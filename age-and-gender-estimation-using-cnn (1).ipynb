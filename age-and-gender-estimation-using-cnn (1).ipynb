{
 "cells": [
  {
   "cell_type": "code",
   "execution_count": 1,
   "metadata": {
    "_cell_guid": "b1076dfc-b9ad-4769-8c92-a6c4dae69d19",
    "_uuid": "8f2839f25d086af736a60e9eeb907d3b93b6e0e5",
    "execution": {
     "iopub.execute_input": "2022-07-31T03:04:28.776063Z",
     "iopub.status.busy": "2022-07-31T03:04:28.775763Z",
     "iopub.status.idle": "2022-07-31T03:04:28.990934Z",
     "shell.execute_reply": "2022-07-31T03:04:28.989993Z",
     "shell.execute_reply.started": "2022-07-31T03:04:28.776012Z"
    }
   },
   "outputs": [],
   "source": [
    "# This Python 3 environment comes with many helpful analytics libraries installed\n",
    "# It is defined by the kaggle/python docker image: https://github.com/kaggle/docker-python\n",
    "# For example, here's several helpful packages to load in \n",
    "\n",
    "import numpy as np # linear algebra\n",
    "import pandas as pd # data processing, CSV file I/O (e.g. pd.read_csv)\n",
    "\n",
    "# Input data files are available in the \"../input/\" directory.\n",
    "# For example, running this (by clicking run or pressing Shift+Enter) will list all files under the input directory\n",
    "import os"
   ]
  },
  {
   "cell_type": "code",
   "execution_count": null,
   "metadata": {},
   "outputs": [],
   "source": []
  },
  {
   "cell_type": "markdown",
   "metadata": {},
   "source": [
    "Format of the file: age_gender_ethnicity_datetime "
   ]
  },
  {
   "cell_type": "code",
   "execution_count": 2,
   "metadata": {
    "_cell_guid": "79c7e3d0-c299-4dcb-8224-4455121ee9b0",
    "_uuid": "d629ff2d2480ee46fbb7e2d37f6b5fab8052498a",
    "execution": {
     "iopub.execute_input": "2022-07-31T03:04:30.212472Z",
     "iopub.status.busy": "2022-07-31T03:04:30.211987Z",
     "iopub.status.idle": "2022-07-31T03:04:31.335747Z",
     "shell.execute_reply": "2022-07-31T03:04:31.335012Z",
     "shell.execute_reply.started": "2022-07-31T03:04:30.212243Z"
    }
   },
   "outputs": [],
   "source": [
    "path = \"/kaggle/input/utkface-new/UTKFace/\"\n",
    "files = os.listdir(path)\n",
    "size = len(files)\n",
    "print(\"Total samples:\",size)\n",
    "print(files[0])"
   ]
  },
  {
   "cell_type": "code",
   "execution_count": 91,
   "metadata": {
    "execution": {
     "iopub.execute_input": "2022-07-31T03:49:30.784994Z",
     "iopub.status.busy": "2022-07-31T03:49:30.784622Z",
     "iopub.status.idle": "2022-07-31T03:50:09.780079Z",
     "shell.execute_reply": "2022-07-31T03:50:09.779181Z",
     "shell.execute_reply.started": "2022-07-31T03:49:30.784930Z"
    }
   },
   "outputs": [],
   "source": [
    "import cv2\n",
    "images = []\n",
    "ages = []\n",
    "genders = []\n",
    "for file in files:\n",
    "    image = cv2.imread(path+file,0)\n",
    "    image = cv2.resize(image,dsize=(128,128))\n",
    "    image = image.reshape((image.shape[0],image.shape[1],1))\n",
    "    images.append(image)\n",
    "    split_var = file.split('_')\n",
    "    ages.append(split_var[0])\n",
    "    genders.append(int(split_var[1]) )"
   ]
  },
  {
   "cell_type": "code",
   "execution_count": 92,
   "metadata": {
    "execution": {
     "iopub.execute_input": "2022-07-31T03:50:09.783659Z",
     "iopub.status.busy": "2022-07-31T03:50:09.783083Z",
     "iopub.status.idle": "2022-07-31T03:50:09.787650Z",
     "shell.execute_reply": "2022-07-31T03:50:09.786590Z",
     "shell.execute_reply.started": "2022-07-31T03:50:09.783595Z"
    }
   },
   "outputs": [],
   "source": [
    "# images = images[:5000]\n",
    "# ages = ages[:5000]\n",
    "# genders = genders[:5000]\n",
    "# size = len(ages)"
   ]
  },
  {
   "cell_type": "code",
   "execution_count": 93,
   "metadata": {
    "execution": {
     "iopub.execute_input": "2022-07-31T03:50:09.789783Z",
     "iopub.status.busy": "2022-07-31T03:50:09.789235Z",
     "iopub.status.idle": "2022-07-31T03:50:11.154521Z",
     "shell.execute_reply": "2022-07-31T03:50:11.153220Z",
     "shell.execute_reply.started": "2022-07-31T03:50:09.789724Z"
    }
   },
   "outputs": [],
   "source": [
    "import matplotlib.pyplot as plt\n",
    "x_ages = list(set(ages))\n",
    "y_ages = [ages.count(i) for i in x_ages]\n",
    "plt.bar(x_ages,y_ages)\n",
    "plt.show()\n",
    "print(\"Max value:\",max(ages))"
   ]
  },
  {
   "cell_type": "code",
   "execution_count": 94,
   "metadata": {
    "execution": {
     "iopub.execute_input": "2022-07-31T03:50:11.156118Z",
     "iopub.status.busy": "2022-07-31T03:50:11.155840Z",
     "iopub.status.idle": "2022-07-31T03:50:11.343444Z",
     "shell.execute_reply": "2022-07-31T03:50:11.342454Z",
     "shell.execute_reply.started": "2022-07-31T03:50:11.156071Z"
    }
   },
   "outputs": [],
   "source": [
    "def display(img):\n",
    "    plt.imshow(img[:,:,0])\n",
    "    plt.set_cmap('gray')\n",
    "    plt.show()\n",
    "idx = 500\n",
    "sample = images[idx]\n",
    "print(\"Gender:\",genders[idx],\"Age:\",ages[idx])\n",
    "display(sample)"
   ]
  },
  {
   "cell_type": "code",
   "execution_count": 95,
   "metadata": {
    "execution": {
     "iopub.execute_input": "2022-07-31T03:50:11.347242Z",
     "iopub.status.busy": "2022-07-31T03:50:11.346697Z",
     "iopub.status.idle": "2022-07-31T03:50:11.353630Z",
     "shell.execute_reply": "2022-07-31T03:50:11.352409Z",
     "shell.execute_reply.started": "2022-07-31T03:50:11.347165Z"
    }
   },
   "outputs": [],
   "source": [
    "# def age_group(age):\n",
    "#     if age >=0 and age < 10:\n",
    "#         return 1\n",
    "#     elif age < 20:\n",
    "#         return 2\n",
    "#     elif age < 30:\n",
    "#         return 3\n",
    "#     elif age < 40:\n",
    "#         return 4\n",
    "#     elif age < 50:\n",
    "#         return 5\n",
    "#     elif age < 60:\n",
    "#         return 6\n",
    "#     elif age < 70:\n",
    "#         return 7\n",
    "#     elif age < 80:\n",
    "#         return 8\n",
    "#     elif age < 90:\n",
    "#         return 9\n",
    "#     else:\n",
    "#         return 10\n",
    "\n",
    "def age_group(age):\n",
    "    if age >=0 and age < 18:\n",
    "        return 0\n",
    "    else:\n",
    "        return 1"
   ]
  },
  {
   "cell_type": "code",
   "execution_count": 96,
   "metadata": {
    "execution": {
     "iopub.execute_input": "2022-07-31T03:50:11.355504Z",
     "iopub.status.busy": "2022-07-31T03:50:11.355140Z",
     "iopub.status.idle": "2022-07-31T03:50:13.687379Z",
     "shell.execute_reply": "2022-07-31T03:50:13.686413Z",
     "shell.execute_reply.started": "2022-07-31T03:50:11.355443Z"
    }
   },
   "outputs": [],
   "source": [
    "# pre processing\n",
    "target = np.zeros((size,2),dtype='float32')\n",
    "features = np.zeros((size,sample.shape[0],sample.shape[1],1),dtype = 'float32')\n",
    "for i in range(size):\n",
    "    target[i,0] = age_group(int(ages[i]))\n",
    "    target[i,1] = int(genders[i])\n",
    "    features[i] = images[i]\n",
    "features = features / 255\n",
    "display(features[550])"
   ]
  },
  {
   "cell_type": "code",
   "execution_count": 97,
   "metadata": {
    "execution": {
     "iopub.execute_input": "2022-07-31T03:50:13.689737Z",
     "iopub.status.busy": "2022-07-31T03:50:13.689112Z",
     "iopub.status.idle": "2022-07-31T03:50:14.851584Z",
     "shell.execute_reply": "2022-07-31T03:50:14.850631Z",
     "shell.execute_reply.started": "2022-07-31T03:50:13.689674Z"
    }
   },
   "outputs": [],
   "source": [
    "from sklearn.model_selection import train_test_split\n",
    "x_train, x_test, y_train, y_test = train_test_split(features, target, test_size=0.1,shuffle  = True)\n",
    "print(\"Samples in Training:\",x_train.shape[0])\n",
    "print(\"Samples in Testing:\",x_test.shape[0])"
   ]
  },
  {
   "cell_type": "code",
   "execution_count": 98,
   "metadata": {
    "execution": {
     "iopub.execute_input": "2022-07-31T03:50:14.855211Z",
     "iopub.status.busy": "2022-07-31T03:50:14.854951Z",
     "iopub.status.idle": "2022-07-31T03:50:14.862380Z",
     "shell.execute_reply": "2022-07-31T03:50:14.861349Z",
     "shell.execute_reply.started": "2022-07-31T03:50:14.855160Z"
    }
   },
   "outputs": [],
   "source": [
    "print(\"Shape of image:\",sample.shape)"
   ]
  },
  {
   "cell_type": "code",
   "execution_count": 99,
   "metadata": {
    "execution": {
     "iopub.execute_input": "2022-07-31T03:50:14.864768Z",
     "iopub.status.busy": "2022-07-31T03:50:14.864094Z",
     "iopub.status.idle": "2022-07-31T03:50:14.872835Z",
     "shell.execute_reply": "2022-07-31T03:50:14.871594Z",
     "shell.execute_reply.started": "2022-07-31T03:50:14.864714Z"
    }
   },
   "outputs": [],
   "source": [
    "import keras \n",
    "from keras.layers import *\n",
    "from keras.models import *\n",
    "from keras import backend as K"
   ]
  },
  {
   "cell_type": "code",
   "execution_count": 1,
   "metadata": {
    "execution": {
     "iopub.execute_input": "2022-08-01T03:15:43.667859Z",
     "iopub.status.busy": "2022-08-01T03:15:43.667557Z",
     "iopub.status.idle": "2022-08-01T03:15:45.913189Z",
     "shell.execute_reply": "2022-08-01T03:15:45.912371Z",
     "shell.execute_reply.started": "2022-08-01T03:15:43.667808Z"
    }
   },
   "outputs": [],
   "source": [
    "from tensorflow.keras.layers import Dropout\n",
    "from tensorflow.keras.layers import Flatten,BatchNormalization\n",
    "from tensorflow.keras.layers import Dense, MaxPooling2D,Conv2D\n",
    "from tensorflow.keras.layers import Input,Activation,Add\n",
    "from tensorflow.keras.models import Model\n",
    "from tensorflow.keras.regularizers import l2\n",
    "from tensorflow.keras.optimizers import Adam\n",
    "import tensorflow as tf\n",
    "\n",
    "def Convolution(input_tensor,filters):\n",
    "    \n",
    "    x = Conv2D(filters=filters,kernel_size=(3, 3),padding = 'same',strides=(1, 1),kernel_regularizer=l2(0.001))(input_tensor)\n",
    "    x = Dropout(0.1)(x)\n",
    "    x= Activation('relu')(x)\n",
    "    return x"
   ]
  },
  {
   "cell_type": "code",
   "execution_count": 2,
   "metadata": {
    "execution": {
     "iopub.execute_input": "2022-08-01T03:15:49.650573Z",
     "iopub.status.busy": "2022-08-01T03:15:49.650254Z",
     "iopub.status.idle": "2022-08-01T03:15:52.523785Z",
     "shell.execute_reply": "2022-08-01T03:15:52.523078Z",
     "shell.execute_reply.started": "2022-08-01T03:15:49.650518Z"
    }
   },
   "outputs": [],
   "source": [
    "inputs = Input(shape=(128,128,1))\n",
    "conv_1= Convolution(inputs,32)\n",
    "maxp_1 = MaxPooling2D(pool_size = (2,2)) (conv_1)\n",
    "conv_2 = Convolution(maxp_1,64)\n",
    "maxp_2 = MaxPooling2D(pool_size = (2, 2)) (conv_2)\n",
    "conv_3 = Convolution(maxp_2,128)\n",
    "maxp_3 = MaxPooling2D(pool_size = (2, 2)) (conv_3)\n",
    "conv_4 = Convolution(maxp_3,256)\n",
    "maxp_4 = MaxPooling2D(pool_size = (2, 2)) (conv_4)\n",
    "flatten= Flatten() (maxp_4)\n",
    "dense_1= Dense(64,activation='selu')(flatten)\n",
    "dense_2= Dense(64,activation='selu')(flatten)\n",
    "gender_model = Dropout(0.2)(dense_2)\n",
    "gender_model = Dense(32, activation='selu')(gender_model)\n",
    "gender_model = Dropout(0.2)(gender_model)\n",
    "gender_model = Dense(16, activation='selu')(gender_model)\n",
    "drop_1=Dropout(0.2)(dense_1)\n",
    "drop_2=Dropout(0.2)(gender_model)\n",
    "output_1= Dense(1,activation=\"sigmoid\",name='sex_out')(drop_1)\n",
    "output_2= Dense(1,activation=\"sigmoid\",name='age_out')(drop_2)\n",
    "model = Model(inputs=[inputs], outputs=[output_1,output_2])\n",
    "model.compile(loss=[\"binary_crossentropy\",\"binary_crossentropy\"], optimizer=\"Adam\",metrics=[\"accuracy\"])"
   ]
  },
  {
   "cell_type": "code",
   "execution_count": 3,
   "metadata": {
    "execution": {
     "iopub.execute_input": "2022-08-01T03:15:56.400588Z",
     "iopub.status.busy": "2022-08-01T03:15:56.400270Z",
     "iopub.status.idle": "2022-08-01T03:15:56.421136Z",
     "shell.execute_reply": "2022-08-01T03:15:56.419769Z",
     "shell.execute_reply.started": "2022-08-01T03:15:56.400538Z"
    }
   },
   "outputs": [],
   "source": [
    "model.summary()"
   ]
  },
  {
   "cell_type": "code",
   "execution_count": 103,
   "metadata": {
    "execution": {
     "iopub.execute_input": "2022-07-31T03:50:15.396041Z",
     "iopub.status.busy": "2022-07-31T03:50:15.395758Z",
     "iopub.status.idle": "2022-07-31T03:54:43.760462Z",
     "shell.execute_reply": "2022-07-31T03:54:43.759755Z",
     "shell.execute_reply.started": "2022-07-31T03:50:15.395993Z"
    }
   },
   "outputs": [],
   "source": [
    "h = model.fit(x_train,[y_train[:,0],y_train[:,1]],validation_split=0.15,epochs = 30, batch_size=128,shuffle = True)"
   ]
  },
  {
   "cell_type": "code",
   "execution_count": 16,
   "metadata": {
    "execution": {
     "iopub.execute_input": "2022-07-31T00:17:15.918182Z",
     "iopub.status.busy": "2022-07-31T00:17:15.917644Z",
     "iopub.status.idle": "2022-07-31T00:17:17.544172Z",
     "shell.execute_reply": "2022-07-31T00:17:17.543473Z",
     "shell.execute_reply.started": "2022-07-31T00:17:15.918121Z"
    }
   },
   "outputs": [],
   "source": [
    "model.save('data.h5')"
   ]
  },
  {
   "cell_type": "code",
   "execution_count": 106,
   "metadata": {
    "execution": {
     "iopub.execute_input": "2022-07-31T04:07:31.497029Z",
     "iopub.status.busy": "2022-07-31T04:07:31.496733Z",
     "iopub.status.idle": "2022-07-31T04:07:31.651275Z",
     "shell.execute_reply": "2022-07-31T04:07:31.650590Z",
     "shell.execute_reply.started": "2022-07-31T04:07:31.496979Z"
    }
   },
   "outputs": [],
   "source": [
    "history = h\n",
    "plt.plot(history.history['age_out_accuracy'])\n",
    "plt.plot(history.history['val_age_out_accuracy'])\n",
    "plt.title('model accuracy')\n",
    "plt.ylabel('accuracy')\n",
    "plt.xlabel('epoch')\n",
    "plt.legend(['train', 'val'], loc='upper left')\n",
    "plt.show()"
   ]
  },
  {
   "cell_type": "code",
   "execution_count": 107,
   "metadata": {
    "execution": {
     "iopub.execute_input": "2022-07-31T04:07:35.895905Z",
     "iopub.status.busy": "2022-07-31T04:07:35.895601Z",
     "iopub.status.idle": "2022-07-31T04:07:36.049004Z",
     "shell.execute_reply": "2022-07-31T04:07:36.048221Z",
     "shell.execute_reply.started": "2022-07-31T04:07:35.895852Z"
    }
   },
   "outputs": [],
   "source": [
    "history = h\n",
    "plt.plot(history.history['sex_out_accuracy'])\n",
    "plt.plot(history.history['val_sex_out_accuracy'])\n",
    "plt.title('model accuracy')\n",
    "plt.ylabel('accuracy')\n",
    "plt.xlabel('epoch')\n",
    "plt.legend(['train', 'val'], loc='upper left')\n",
    "plt.show()"
   ]
  },
  {
   "cell_type": "code",
   "execution_count": 108,
   "metadata": {
    "execution": {
     "iopub.execute_input": "2022-07-31T04:09:13.425221Z",
     "iopub.status.busy": "2022-07-31T04:09:13.424925Z",
     "iopub.status.idle": "2022-07-31T04:09:15.250447Z",
     "shell.execute_reply": "2022-07-31T04:09:15.249786Z",
     "shell.execute_reply.started": "2022-07-31T04:09:13.425167Z"
    }
   },
   "outputs": [],
   "source": [
    "def display(img):\n",
    "    plt.imshow(img[:,:,0])\n",
    "    plt.set_cmap('gray')\n",
    "    plt.show()\n",
    "    \n",
    "# def age_group(age):\n",
    "#     if age >=0 and age < 10:\n",
    "#         return 1\n",
    "#     elif age < 20:\n",
    "#         return 2\n",
    "#     elif age < 30:\n",
    "#         return 3\n",
    "#     elif age < 40:\n",
    "#         return 4\n",
    "#     elif age < 50:\n",
    "#         return 5\n",
    "#     elif age < 60:\n",
    "#         return 6\n",
    "#     elif age < 70:\n",
    "#         return 7\n",
    "#     elif age < 80:\n",
    "#         return 8\n",
    "#     elif age < 90:\n",
    "#         return 9\n",
    "#     else:\n",
    "#         return 10\n",
    "\n",
    "# def get_age(distr):\n",
    "#     distr = distr*10\n",
    "#     if distr >= 0 and distr <= 1 :return \"0-10\"\n",
    "#     if distr >= 1 and distr <= 2 :return \"10-20\"\n",
    "#     if distr >= 2 and distr <= 3 :return \"20-30\"\n",
    "#     if distr >= 3 and distr <= 4 :return \"30-40\"\n",
    "#     if distr >= 4 and distr <= 5 :return \"40-50\"\n",
    "#     if distr >= 5 and distr <= 6:return \"50-60\"\n",
    "#     if distr >= 6 and distr <= 7:return \"60-70\"\n",
    "#     if distr >= 7 and distr <= 8:return \"70-80\"\n",
    "#     if distr >= 8 and distr <= 9 :return \"80-90\"\n",
    "#     if distr >= 9 and distr <= 10 :return \"90-100\"\n",
    "#     return \"Unknown\"\n",
    "\n",
    "def get_age(distr):\n",
    "    if distr < 0.5:return \"child, age is 0 -18\"\n",
    "    else: return \"Adult, age is 18+\"\n",
    "    \n",
    "def get_gender(prob):\n",
    "    if prob < 0.5:return \"Male\"\n",
    "    else: return \"Female\"\n",
    "\n",
    "def get_result(sample):\n",
    "    sample = sample/255\n",
    "    val = model.predict( np.array([ sample ]) )    \n",
    "    age = get_age(val[0])\n",
    "    gender = get_gender(val[1])\n",
    "    print(\"Values:\",val,\"\\nPredicted Gender:\",gender,\"Predicted Age:\",age)\n",
    "    \n",
    "    \n",
    "indexes = [500,59,80,2,4546,7,9,256,45]\n",
    "for idx in indexes:\n",
    "    sample = images[idx]\n",
    "    display(sample)\n",
    "    print(\"Actual Gender:\",get_gender(genders[idx]),\"Age:\",ages[idx])\n",
    "    res = get_result(sample)"
   ]
  },
  {
   "cell_type": "code",
   "execution_count": null,
   "metadata": {},
   "outputs": [],
   "source": [
    "from sklearn.metrics import confusion_matrix\n",
    "test_output = model.predict(test_input, verbose=0)\n",
    "print(confusion_matrix(Y_test, test_output))"
   ]
  },
  {
   "cell_type": "code",
   "execution_count": 51,
   "metadata": {
    "execution": {
     "iopub.execute_input": "2022-07-31T00:37:44.279384Z",
     "iopub.status.busy": "2022-07-31T00:37:44.279078Z",
     "iopub.status.idle": "2022-07-31T00:37:44.353961Z",
     "shell.execute_reply": "2022-07-31T00:37:44.352094Z",
     "shell.execute_reply.started": "2022-07-31T00:37:44.279331Z"
    }
   },
   "outputs": [],
   "source": [
    "# import cv2\n",
    "# ages=[]\n",
    "# genders=[]\n",
    "# images=[]\n",
    "# for fle in files:\n",
    "#   age=int(fle.split('_')[0])\n",
    "#   gender=int(fle.split('_')[1])\n",
    "#   total=fldr+'/'+fle\n",
    "#   print(total)\n",
    "#   image=cv2.imread(total)\n",
    "#   image = cv2.cvtColor(image, cv2.COLOR_BGR2RGB)\n",
    "#   image= cv2.resize(image,(48,48))\n",
    "#   images.append(image)\n",
    "#   ages.append(age)\n",
    "#   genders.append(gender)"
   ]
  },
  {
   "cell_type": "code",
   "execution_count": 52,
   "metadata": {
    "execution": {
     "iopub.execute_input": "2022-07-31T00:38:47.056960Z",
     "iopub.status.busy": "2022-07-31T00:38:47.056667Z",
     "iopub.status.idle": "2022-07-31T00:39:38.475406Z",
     "shell.execute_reply": "2022-07-31T00:39:38.474660Z",
     "shell.execute_reply.started": "2022-07-31T00:38:47.056909Z"
    }
   },
   "outputs": [],
   "source": [
    "import cv2\n",
    "images = []\n",
    "ages = []\n",
    "genders = []\n",
    "for file in files:\n",
    "    image = cv2.imread(path+file,0)\n",
    "    image = cv2.resize(image,dsize=(48,48))\n",
    "    image = image.reshape((image.shape[0],image.shape[1],1))\n",
    "    images.append(image)\n",
    "    split_var = file.split('_')\n",
    "    ages.append(split_var[0])\n",
    "    genders.append(int(split_var[1]) )"
   ]
  },
  {
   "cell_type": "code",
   "execution_count": 15,
   "metadata": {
    "execution": {
     "iopub.execute_input": "2022-07-31T03:09:32.416490Z",
     "iopub.status.busy": "2022-07-31T03:09:32.416172Z",
     "iopub.status.idle": "2022-07-31T03:09:32.533540Z",
     "shell.execute_reply": "2022-07-31T03:09:32.532753Z",
     "shell.execute_reply.started": "2022-07-31T03:09:32.416440Z"
    }
   },
   "outputs": [],
   "source": [
    "labels=[]\n",
    "i=0\n",
    "while i<len(ages):\n",
    "    label=[]\n",
    "    label.append([ages[i]])\n",
    "    label.append([genders[i]])\n",
    "    labels.append(label)\n",
    "    i+=1"
   ]
  },
  {
   "cell_type": "code",
   "execution_count": 16,
   "metadata": {
    "execution": {
     "iopub.execute_input": "2022-07-31T03:09:33.630596Z",
     "iopub.status.busy": "2022-07-31T03:09:33.630228Z",
     "iopub.status.idle": "2022-07-31T03:09:34.279439Z",
     "shell.execute_reply": "2022-07-31T03:09:34.278326Z",
     "shell.execute_reply.started": "2022-07-31T03:09:33.630538Z"
    }
   },
   "outputs": [],
   "source": [
    "images_f=np.array(images)\n",
    "labels_f=np.array(labels)\n",
    "images_f_2=images_f/255\n",
    "X_train, X_test, Y_train, Y_test= train_test_split(images_f_2, labels_f,test_size=0.25)"
   ]
  },
  {
   "cell_type": "code",
   "execution_count": 55,
   "metadata": {
    "execution": {
     "iopub.execute_input": "2022-07-31T00:39:52.176424Z",
     "iopub.status.busy": "2022-07-31T00:39:52.176110Z",
     "iopub.status.idle": "2022-07-31T00:39:52.181194Z",
     "shell.execute_reply": "2022-07-31T00:39:52.180473Z",
     "shell.execute_reply.started": "2022-07-31T00:39:52.176371Z"
    }
   },
   "outputs": [],
   "source": [
    "Y_train_2=[Y_train[:,1],Y_train[:,0]]\n",
    "Y_test_2=[Y_test[:,1],Y_test[:,0]]"
   ]
  },
  {
   "cell_type": "code",
   "execution_count": 56,
   "metadata": {
    "execution": {
     "iopub.execute_input": "2022-07-31T00:40:15.989120Z",
     "iopub.status.busy": "2022-07-31T00:40:15.988828Z",
     "iopub.status.idle": "2022-07-31T00:40:15.999839Z",
     "shell.execute_reply": "2022-07-31T00:40:15.998913Z",
     "shell.execute_reply.started": "2022-07-31T00:40:15.989067Z"
    }
   },
   "outputs": [],
   "source": [
    "from tensorflow.keras.layers import Dropout\n",
    "from tensorflow.keras.layers import Flatten,BatchNormalization\n",
    "from tensorflow.keras.layers import Dense, MaxPooling2D,Conv2D\n",
    "from tensorflow.keras.layers import Input,Activation,Add\n",
    "from tensorflow.keras.models import Model\n",
    "from tensorflow.keras.regularizers import l2\n",
    "from tensorflow.keras.optimizers import Adam\n",
    "import tensorflow as tf\n",
    "\n",
    "def Convolution(input_tensor,filters):\n",
    "    \n",
    "    x = Conv2D(filters=filters,kernel_size=(3, 3),padding = 'same',strides=(1, 1),kernel_regularizer=l2(0.001))(input_tensor)\n",
    "    x = Dropout(0.1)(x)\n",
    "    x= Activation('relu')(x)\n",
    "    return x"
   ]
  },
  {
   "cell_type": "code",
   "execution_count": 57,
   "metadata": {
    "execution": {
     "iopub.execute_input": "2022-07-31T00:41:14.019709Z",
     "iopub.status.busy": "2022-07-31T00:41:14.019409Z",
     "iopub.status.idle": "2022-07-31T00:41:14.032151Z",
     "shell.execute_reply": "2022-07-31T00:41:14.031521Z",
     "shell.execute_reply.started": "2022-07-31T00:41:14.019661Z"
    }
   },
   "outputs": [],
   "source": [
    "def model(input_shape):\n",
    "    inputs = Input((input_shape))\n",
    "    conv_1= Convolution(inputs,32)\n",
    "    maxp_1 = MaxPooling2D(pool_size = (2,2)) (conv_1)\n",
    "    conv_2 = Convolution(maxp_1,64)\n",
    "    maxp_2 = MaxPooling2D(pool_size = (2, 2)) (conv_2)\n",
    "    conv_3 = Convolution(maxp_2,128)\n",
    "    maxp_3 = MaxPooling2D(pool_size = (2, 2)) (conv_3)\n",
    "    conv_4 = Convolution(maxp_3,256)\n",
    "    maxp_4 = MaxPooling2D(pool_size = (2, 2)) (conv_4)\n",
    "    flatten= Flatten() (maxp_4)\n",
    "    dense_1= Dense(64,activation='relu')(flatten)\n",
    "    dense_2= Dense(64,activation='relu')(flatten)\n",
    "    drop_1=Dropout(0.2)(dense_1)\n",
    "    drop_2=Dropout(0.2)(dense_2)\n",
    "    output_1= Dense(1,activation=\"sigmoid\",name='sex_out')(drop_1)\n",
    "    output_2= Dense(1,activation=\"relu\",name='age_out')(drop_2)\n",
    "    model = Model(inputs=[inputs], outputs=[output_1,output_2])\n",
    "    model.compile(loss=[\"binary_crossentropy\",\"mae\"], optimizer=\"Adam\",metrics=[\"accuracy\"])\n",
    "    return model"
   ]
  },
  {
   "cell_type": "code",
   "execution_count": null,
   "metadata": {},
   "outputs": [],
   "source": []
  }
 ],
 "metadata": {
  "kernelspec": {
   "display_name": "Python 3 (ipykernel)",
   "language": "python",
   "name": "python3"
  },
  "language_info": {
   "codemirror_mode": {
    "name": "ipython",
    "version": 3
   },
   "file_extension": ".py",
   "mimetype": "text/x-python",
   "name": "python",
   "nbconvert_exporter": "python",
   "pygments_lexer": "ipython3",
   "version": "3.9.7"
  }
 },
 "nbformat": 4,
 "nbformat_minor": 4
}
